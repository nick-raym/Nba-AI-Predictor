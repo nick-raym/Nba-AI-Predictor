{
 "cells": [
  {
   "cell_type": "code",
   "execution_count": 2,
   "metadata": {},
   "outputs": [],
   "source": [
    "import numpy as np\n",
    "import pandas as pd\n",
    "\n",
    "from sklearn.model_selection import train_test_split\n",
    "from sklearn.ensemble import RandomForestRegressor\n",
    "from sklearn.metrics import r2_score, mean_squared_error\n"
   ]
  },
  {
   "cell_type": "code",
   "execution_count": 3,
   "metadata": {},
   "outputs": [
    {
     "name": "stdout",
     "output_type": "stream",
     "text": [
      "Collecting nba_api\n",
      "  Using cached nba_api-1.4.1-py3-none-any.whl (261 kB)\n",
      "Collecting requests<3.0,>=2.31\n",
      "  Downloading requests-2.31.0-py3-none-any.whl (62 kB)\n",
      "\u001b[2K     \u001b[90m━━━━━━━━━━━━━━━━━━━━━━━━━━━━━━━━━━━━━━━━\u001b[0m \u001b[32m62.6/62.6 kB\u001b[0m \u001b[31m2.0 MB/s\u001b[0m eta \u001b[36m0:00:00\u001b[0m\n",
      "\u001b[?25hCollecting certifi<2024.0.0,>=2023.7.22\n",
      "  Using cached certifi-2023.11.17-py3-none-any.whl (162 kB)\n",
      "Collecting numpy<2.0.0,>=1.22.2\n",
      "  Downloading numpy-1.26.4-cp39-cp39-macosx_10_9_x86_64.whl (20.6 MB)\n",
      "\u001b[2K     \u001b[90m━━━━━━━━━━━━━━━━━━━━━━━━━━━━━━━━━━━━━━━━\u001b[0m \u001b[32m20.6/20.6 MB\u001b[0m \u001b[31m19.4 MB/s\u001b[0m eta \u001b[36m0:00:00\u001b[0m00:01\u001b[0m00:01\u001b[0m\n",
      "\u001b[?25hRequirement already satisfied: idna<4,>=2.5 in /Users/nickr/opt/anaconda3/lib/python3.9/site-packages (from requests<3.0,>=2.31->nba_api) (3.3)\n",
      "Requirement already satisfied: urllib3<3,>=1.21.1 in /Users/nickr/opt/anaconda3/lib/python3.9/site-packages (from requests<3.0,>=2.31->nba_api) (1.26.11)\n",
      "Requirement already satisfied: charset-normalizer<4,>=2 in /Users/nickr/opt/anaconda3/lib/python3.9/site-packages (from requests<3.0,>=2.31->nba_api) (2.0.4)\n",
      "Installing collected packages: numpy, certifi, requests, nba_api\n",
      "  Attempting uninstall: numpy\n",
      "    Found existing installation: numpy 1.21.5\n",
      "    Uninstalling numpy-1.21.5:\n",
      "      Successfully uninstalled numpy-1.21.5\n",
      "  Attempting uninstall: certifi\n",
      "    Found existing installation: certifi 2022.9.24\n",
      "    Uninstalling certifi-2022.9.24:\n",
      "      Successfully uninstalled certifi-2022.9.24\n",
      "  Attempting uninstall: requests\n",
      "    Found existing installation: requests 2.28.1\n",
      "    Uninstalling requests-2.28.1:\n",
      "      Successfully uninstalled requests-2.28.1\n",
      "\u001b[31mERROR: pip's dependency resolver does not currently take into account all the packages that are installed. This behaviour is the source of the following dependency conflicts.\n",
      "daal4py 2021.6.0 requires daal==2021.4.0, which is not installed.\n",
      "scipy 1.9.1 requires numpy<1.25.0,>=1.18.5, but you have numpy 1.26.4 which is incompatible.\n",
      "numba 0.55.1 requires numpy<1.22,>=1.18, but you have numpy 1.26.4 which is incompatible.\n",
      "conda-repo-cli 1.0.20 requires clyent==1.2.1, but you have clyent 1.2.2 which is incompatible.\n",
      "conda-repo-cli 1.0.20 requires nbformat==5.4.0, but you have nbformat 5.5.0 which is incompatible.\n",
      "conda-repo-cli 1.0.20 requires requests==2.28.1, but you have requests 2.31.0 which is incompatible.\u001b[0m\u001b[31m\n",
      "\u001b[0mSuccessfully installed certifi-2023.11.17 nba_api-1.4.1 numpy-1.26.4 requests-2.31.0\n"
     ]
    }
   ],
   "source": [
    "!pip install nba_api\n",
    "\n",
    "from nba_api.stats.static import teams\n",
    "from nba_api.stats.endpoints import teamgamelog, playergamelog,leaguegamefinder\n",
    "from nba_api.live.nba.endpoints import boxscore\n",
    "from nba_api.stats.endpoints import boxscoretraditionalv2\n",
    "from nba_api.stats.static import players\n",
    "from nba_api.stats.endpoints import commonplayerinfo\n",
    "from nba_api.stats.endpoints import playerfantasyprofile\n",
    "from nba_api.stats.endpoints import commonteamroster\n",
    "from nba_api.stats.endpoints import TeamYearByYearStats"
   ]
  },
  {
   "cell_type": "code",
   "execution_count": 4,
   "metadata": {},
   "outputs": [],
   "source": [
    "teams_df = pd.DataFrame(teams.get_teams())\n",
    "players_df = pd.DataFrame(players.get_players())\n",
    "Lebron_id=2544\n",
    "Giannis_id=203507\n",
    "player_fantasy_data = playerfantasyprofile.PlayerFantasyProfile(player_id=Lebron_id)\n",
    "player_fantasy_data = player_fantasy_data.get_data_frames()"
   ]
  },
  {
   "cell_type": "code",
   "execution_count": 11,
   "metadata": {},
   "outputs": [
    {
     "name": "stdout",
     "output_type": "stream",
     "text": [
      "vs. Opponent\n"
     ]
    }
   ],
   "source": [
    "last_5_games=player_fantasy_data[2]\n",
    "vs_opp_stats=player_fantasy_data[4]\n",
    "print(vs_opp_stats.GROUP_SET[0])"
   ]
  },
  {
   "cell_type": "code",
   "execution_count": 12,
   "metadata": {},
   "outputs": [
    {
     "name": "stdout",
     "output_type": "stream",
     "text": [
      "      GROUP_SET   GROUP_VALUE  GP  W  L  W_PCT         MIN  FGM  FGA  FG_PCT  \\\n",
      "0  Last N Games  Last 5 Games   5  4  1    0.8  173.613333   56   87   0.644   \n",
      "\n",
      "   ...  BLK  BLKA  PF  PFD  PTS  PLUS_MINUS  DD2  TD3  FAN_DUEL_PTS  \\\n",
      "0  ...    1     5   3   27  145          48    2    0         246.0   \n",
      "\n",
      "   NBA_FANTASY_PTS  \n",
      "0            253.0  \n",
      "\n",
      "[1 rows x 32 columns]\n"
     ]
    }
   ],
   "source": [
    "last_5_games_stats = last_5_games[last_5_games['GROUP_VALUE'] == 'Last 5 Games']\n",
    "print(last_5_games_stats)"
   ]
  },
  {
   "cell_type": "code",
   "execution_count": 19,
   "metadata": {},
   "outputs": [
    {
     "name": "stdout",
     "output_type": "stream",
     "text": [
      "   SEASON_ID  Player_ID     Game_ID     GAME_DATE      MATCHUP WL  MIN  FGM  \\\n",
      "0      22023       2544  0022301155  APR 09, 2024  LAL vs. GSW  L   36   14   \n",
      "10     22023       2544  0022300973  MAR 16, 2024  LAL vs. GSW  L   38   15   \n",
      "27     22023       2544  0022300650  JAN 27, 2024    LAL @ GSW  W   48   14   \n",
      "\n",
      "    FGA  FG_PCT  ...  DREB  REB  AST  STL  BLK  TOV  PF  PTS  PLUS_MINUS  \\\n",
      "0    22   0.636  ...     6    7   11    2    0    4   0   33          -6   \n",
      "10   23   0.652  ...     5    8    9    1    1    4   1   40          -6   \n",
      "27   25   0.560  ...    19   20   12    0    0    3   2   36          -6   \n",
      "\n",
      "    VIDEO_AVAILABLE  \n",
      "0                 1  \n",
      "10                1  \n",
      "27                1  \n",
      "\n",
      "[3 rows x 27 columns]\n",
      "      Team_ID     Game_ID     GAME_DATE      MATCHUP WL   W   L  W_PCT  MIN  \\\n",
      "0  1610612744  0022301169  APR 11, 2024    GSW @ POR  W  45  35  0.563  240   \n",
      "1  1610612744  0022301155  APR 09, 2024    GSW @ LAL  W  44  35  0.557  240   \n",
      "2  1610612744  0022301142  APR 07, 2024  GSW vs. UTA  W  43  35  0.551  240   \n",
      "3  1610612744  0022301097  APR 05, 2024    GSW @ DAL  L  42  35  0.545  240   \n",
      "4  1610612744  0022301113  APR 04, 2024    GSW @ HOU  W  42  34  0.553  240   \n",
      "\n",
      "   FGM  ...  FT_PCT  OREB  DREB  REB  AST  STL  BLK  TOV  PF  PTS  \n",
      "0   36  ...   0.800    10    36   46   24    8   13   16  18  100  \n",
      "1   47  ...   0.667     4    38   42   37    3   12   15  17  134  \n",
      "2   49  ...   1.000    11    36   47   32    9    8   13  19  118  \n",
      "3   41  ...   0.667    11    33   44   27   12    5   15  19  106  \n",
      "4   47  ...   0.880    12    31   43   29    6    2   18  23  133  \n",
      "\n",
      "[5 rows x 27 columns]\n"
     ]
    }
   ],
   "source": [
    "gamelog = playergamelog.PlayerGameLog(player_id=Lebron_id, season=2023)\n",
    "gamelog_data = gamelog.get_data_frames()\n",
    "vs_warriors = gamelog_data[0][(gamelog_data[0]['MATCHUP'] == 'LAL vs. GSW') | (gamelog_data[0]['MATCHUP'] == 'LAL @ GSW')]\n",
    "print(vs_warriors)\n",
    "team_log = teamgamelog.TeamGameLog(team_id=1610612744)\n",
    "team_log_data = team_log.get_data_frames()[0]\n",
    "# Filter the last 5 games\n",
    "team_last_5_games = team_log_data.head(5)\n",
    "print(team_last_5_games)"
   ]
  },
  {
   "cell_type": "code",
   "execution_count": 21,
   "metadata": {},
   "outputs": [
    {
     "name": "stdout",
     "output_type": "stream",
     "text": [
      "   SEASON_ID  Player_ID     Game_ID     GAME_DATE      MATCHUP WL  MIN  FGM  \\\n",
      "0      22023       2544  0022301155  APR 09, 2024  LAL vs. GSW  L   36   14   \n",
      "1      22023       2544  0022301127  APR 06, 2024  LAL vs. CLE  W   36   10   \n",
      "2      22023       2544  0022301103  APR 03, 2024    LAL @ WAS  W   36    9   \n",
      "3      22023       2544  0022301094  APR 02, 2024    LAL @ TOR  W   29   10   \n",
      "4      22023       2544  0022301078  MAR 31, 2024    LAL @ BKN  W   37   13   \n",
      "..       ...        ...         ...           ...          ... ..  ...  ...   \n",
      "64     22023       2544  0022300127  NOV 01, 2023  LAL vs. LAC  W   42   13   \n",
      "65     22023       2544  0022300111  OCT 30, 2023  LAL vs. ORL  W   33    7   \n",
      "66     22023       2544  0022300100  OCT 29, 2023    LAL @ SAC  L   39   11   \n",
      "67     22023       2544  0022300076  OCT 26, 2023  LAL vs. PHX  W   35    7   \n",
      "68     22023       2544  0022300061  OCT 24, 2023    LAL @ DEN  L   29   10   \n",
      "\n",
      "    FGA  FG_PCT  ...  DREB  REB  AST  STL  BLK  TOV  PF  PTS  PLUS_MINUS  \\\n",
      "0    22   0.636  ...     6    7   11    2    0    4   0   33          -6   \n",
      "1    18   0.556  ...     5    5   12    1    1    5   1   24          10   \n",
      "2    18   0.500  ...     5    7    9    3    0    4   2   25           9   \n",
      "3    12   0.833  ...     4    4    9    0    0    1   0   23          13   \n",
      "4    17   0.765  ...     6    7    5    0    0    4   0   40          22   \n",
      "..  ...     ...  ...   ...  ...  ...  ...  ...  ...  ..  ...         ...   \n",
      "64   19   0.684  ...    12   12    7    1    2    4   3   35           6   \n",
      "65   17   0.412  ...     3    3    4    3    1    5   0   19           5   \n",
      "66   19   0.579  ...    15   15    8    0    0    8   2   27          -5   \n",
      "67   14   0.500  ...     7    8    9    2    2    5   1   21          22   \n",
      "68   16   0.625  ...     7    8    5    1    0    0   1   21           7   \n",
      "\n",
      "    VIDEO_AVAILABLE  \n",
      "0                 1  \n",
      "1                 1  \n",
      "2                 1  \n",
      "3                 1  \n",
      "4                 1  \n",
      "..              ...  \n",
      "64                1  \n",
      "65                1  \n",
      "66                1  \n",
      "67                1  \n",
      "68                1  \n",
      "\n",
      "[69 rows x 27 columns]\n"
     ]
    }
   ],
   "source": [
    "Lebron_id = 2544\n",
    "gamelog = playergamelog.PlayerGameLog(player_id=Lebron_id, season='2023')\n",
    "lebron_gamelog = gamelog.get_data_frames()[0]\n",
    "print(lebron_gamelog)"
   ]
  },
  {
   "cell_type": "code",
   "execution_count": 22,
   "metadata": {},
   "outputs": [
    {
     "name": "stdout",
     "output_type": "stream",
     "text": [
      "Index(['SEASON_ID', 'Player_ID', 'Game_ID', 'GAME_DATE_LeBron',\n",
      "       'MATCHUP_LeBron', 'WL_LeBron', 'MIN_LeBron', 'FGM_LeBron', 'FGA_LeBron',\n",
      "       'FG_PCT_LeBron', 'FG3M_LeBron', 'FG3A_LeBron', 'FG3_PCT_LeBron',\n",
      "       'FTM_LeBron', 'FTA_LeBron', 'FT_PCT_LeBron', 'OREB_LeBron',\n",
      "       'DREB_LeBron', 'REB_LeBron', 'AST_LeBron', 'STL_LeBron', 'BLK_LeBron',\n",
      "       'TOV_LeBron', 'PF_LeBron', 'PTS_LeBron', 'PLUS_MINUS',\n",
      "       'VIDEO_AVAILABLE', 'Team_ID', 'GAME_DATE_Warriors', 'MATCHUP_Warriors',\n",
      "       'WL_Warriors', 'W', 'L', 'W_PCT', 'MIN_Warriors', 'FGM_Warriors',\n",
      "       'FGA_Warriors', 'FG_PCT_Warriors', 'FG3M_Warriors', 'FG3A_Warriors',\n",
      "       'FG3_PCT_Warriors', 'FTM_Warriors', 'FTA_Warriors', 'FT_PCT_Warriors',\n",
      "       'OREB_Warriors', 'DREB_Warriors', 'REB_Warriors', 'AST_Warriors',\n",
      "       'STL_Warriors', 'BLK_Warriors', 'TOV_Warriors', 'PF_Warriors',\n",
      "       'PTS_Warriors'],\n",
      "      dtype='object')\n"
     ]
    }
   ],
   "source": [
    "merged_data = pd.merge(lebron_gamelog, team_log_data, on='Game_ID', suffixes=('_LeBron', '_Warriors'))\n",
    "print(merged_data.columns)"
   ]
  },
  {
   "cell_type": "code",
   "execution_count": null,
   "metadata": {},
   "outputs": [],
   "source": [
    "features = ['PTS_LeBron', 'AST_LeBron', 'REB_LeBron', 'PTS_Warriors']\n",
    "X = merged_data[features]\n",
    "y = merged_data['PTS_LeBron']  # Predict LeBron's points\n",
    "\n",
    "# Split data into training and testing sets\n",
    "X_train, X_test, y_train, y_test = train_test_split(X, y, test_size=0.2, random_state=42)"
   ]
  },
  {
   "cell_type": "code",
   "execution_count": null,
   "metadata": {},
   "outputs": [],
   "source": [
    "rf_model = RandomForestRegressor()\n",
    "rf_model.fit(X_train, y_train)"
   ]
  },
  {
   "cell_type": "code",
   "execution_count": null,
   "metadata": {},
   "outputs": [],
   "source": [
    "latest_lebron_stats = lebron_gamelog.iloc[-1][['PTS', 'AST', 'REB']]\n",
    "\n",
    "# Extract the latest game's stats for the Warriors\n",
    "latest_warriors_stats = team_last_5_games.iloc[-1][['PTS']]\n",
    "\n",
    "# Combine LeBron's and the Warriors' stats into a single DataFrame\n",
    "prediction_data = pd.concat([latest_lebron_stats, latest_warriors_stats])"
   ]
  },
  {
   "cell_type": "code",
   "execution_count": null,
   "metadata": {},
   "outputs": [],
   "source": [
    "print(\"---------------------------------------------\")\n",
    "print(f\"\\n\\n\")\n",
    "print(\"---------------------------------------------\")\n",
    "print(prediction_data)\n",
    "print(np.shape(prediction_data))\n",
    "print(\"---------------------------------------------\")\n",
    "print(f\"\\n\\n\")\n",
    "print(\"---------------------------------------------\")"
   ]
  },
  {
   "cell_type": "code",
   "execution_count": null,
   "metadata": {},
   "outputs": [],
   "source": [
    "X_pred = prediction_data.values.reshape(1, -1)\n",
    "\n",
    "# Make predictions using the trained model\n",
    "predicted_points = rf_model.predict(X_pred)\n",
    "\n",
    "# Print the predicted points\n",
    "# print(\"Predicted points for LeBron's next game against the Warriors:\", predicted_points[0])\n",
    "\n",
    "# Check accuracy using regression metrics (R^2)\n",
    "print(f\"\\n\\nTrue values: {[y_test[0]]}\")\n",
    "print(f\"\\n\\nPredicted values: {[predicted_points[0]]}\")\n",
    "score = r2_score([y_test[0]], [predicted_points[0]])\n",
    "print(\"\\n\\nThe accuracy of our model is {}%\".format(round(score, 2) * 100))\n"
   ]
  }
 ],
 "metadata": {
  "kernelspec": {
   "display_name": "Python 3",
   "language": "python",
   "name": "python3"
  },
  "language_info": {
   "codemirror_mode": {
    "name": "ipython",
    "version": 3
   },
   "file_extension": ".py",
   "mimetype": "text/x-python",
   "name": "python",
   "nbconvert_exporter": "python",
   "pygments_lexer": "ipython3",
   "version": "3.9.13"
  }
 },
 "nbformat": 4,
 "nbformat_minor": 2
}
